{
  "cells": [
    {
      "cell_type": "markdown",
      "metadata": {
        "id": "view-in-github",
        "colab_type": "text"
      },
      "source": [
        "<a href=\"https://colab.research.google.com/github/ACE6233/Lab/blob/main/T2520_Assignment_Part_II_Template.ipynb\" target=\"_parent\"><img src=\"https://colab.research.google.com/assets/colab-badge.svg\" alt=\"Open In Colab\"/></a>"
      ]
    },
    {
      "cell_type": "markdown",
      "source": [
        "This is the template for the students to start working on the Assignment Part II"
      ],
      "metadata": {
        "id": "HRf7Ppo7vqQc"
      },
      "id": "HRf7Ppo7vqQc"
    },
    {
      "cell_type": "markdown",
      "source": [
        "Import the libraries"
      ],
      "metadata": {
        "id": "FJmJ0sXjvvyu"
      },
      "id": "FJmJ0sXjvvyu"
    },
    {
      "cell_type": "code",
      "execution_count": null,
      "id": "3fbea833-00f6-44a4-9d1d-3ac086589195",
      "metadata": {
        "tags": [],
        "id": "3fbea833-00f6-44a4-9d1d-3ac086589195"
      },
      "outputs": [],
      "source": [
        "import pandas as pd\n",
        "from pandas import read_csv\n",
        "from sklearn.decomposition import PCA\n",
        "from sklearn.cluster import KMeans\n",
        "from sklearn.metrics import silhouette_score\n",
        "import matplotlib.pyplot as plt"
      ]
    },
    {
      "cell_type": "markdown",
      "source": [
        "Load the dataset"
      ],
      "metadata": {
        "id": "e50LedQpwBOr"
      },
      "id": "e50LedQpwBOr"
    },
    {
      "cell_type": "code",
      "execution_count": null,
      "id": "793e4fd7-e637-4abb-bcde-885f07688038",
      "metadata": {
        "tags": [],
        "id": "793e4fd7-e637-4abb-bcde-885f07688038"
      },
      "outputs": [],
      "source": [
        "df = read_csv(\"https://raw.githubusercontent.com/wooihaw/datasets/main/steel_faults.csv\")\n",
        "df.head()"
      ]
    },
    {
      "cell_type": "markdown",
      "source": [
        "What is the dimension of this dataset?"
      ],
      "metadata": {
        "id": "7m2_G60BLdrD"
      },
      "id": "7m2_G60BLdrD"
    },
    {
      "cell_type": "code",
      "source": [],
      "metadata": {
        "id": "9Av60DMZyXwU"
      },
      "id": "9Av60DMZyXwU",
      "execution_count": null,
      "outputs": []
    },
    {
      "cell_type": "code",
      "source": [
        "df.describe()"
      ],
      "metadata": {
        "id": "h79tWPv-vptQ"
      },
      "id": "h79tWPv-vptQ",
      "execution_count": null,
      "outputs": []
    },
    {
      "cell_type": "markdown",
      "source": [
        "How many types of fault?"
      ],
      "metadata": {
        "id": "RKbLu7EIjS-z"
      },
      "id": "RKbLu7EIjS-z"
    },
    {
      "cell_type": "code",
      "source": [],
      "metadata": {
        "id": "PFPZXSCxjVaq"
      },
      "id": "PFPZXSCxjVaq",
      "execution_count": null,
      "outputs": []
    },
    {
      "cell_type": "markdown",
      "source": [
        "Check for NaN"
      ],
      "metadata": {
        "id": "dZm0n1ygjrpC"
      },
      "id": "dZm0n1ygjrpC"
    },
    {
      "cell_type": "code",
      "source": [
        "df.isna().sum()"
      ],
      "metadata": {
        "id": "TzVjHkSbjwPh"
      },
      "id": "TzVjHkSbjwPh",
      "execution_count": null,
      "outputs": []
    },
    {
      "cell_type": "markdown",
      "source": [
        "Use X and y to store the features and label"
      ],
      "metadata": {
        "id": "IUWtlcbdjNN6"
      },
      "id": "IUWtlcbdjNN6"
    },
    {
      "cell_type": "code",
      "source": [],
      "metadata": {
        "id": "S1iOZAw1jKpR"
      },
      "id": "S1iOZAw1jKpR",
      "execution_count": null,
      "outputs": []
    },
    {
      "cell_type": "markdown",
      "source": [
        "**Dimensionality Reduction**  \n",
        "Reduce the dimensionality to only 5 features using PCA"
      ],
      "metadata": {
        "id": "-Rv0XLFHxzSt"
      },
      "id": "-Rv0XLFHxzSt"
    },
    {
      "cell_type": "code",
      "execution_count": null,
      "id": "6db30eea-50e4-40e2-aac3-6e3b028d7aa6",
      "metadata": {
        "tags": [],
        "id": "6db30eea-50e4-40e2-aac3-6e3b028d7aa6"
      },
      "outputs": [],
      "source": []
    },
    {
      "cell_type": "markdown",
      "source": [
        "Which features are the most important?"
      ],
      "metadata": {
        "id": "U0zFi5OBxlev"
      },
      "id": "U0zFi5OBxlev"
    },
    {
      "cell_type": "code",
      "source": [],
      "metadata": {
        "id": "RYipPYw7vEhr"
      },
      "execution_count": null,
      "outputs": [],
      "id": "RYipPYw7vEhr"
    },
    {
      "cell_type": "markdown",
      "source": [
        "From here, we notice that '`Y_Maximum`' is the most important feature, followed by '`Sum_of_Luminosity`'."
      ],
      "metadata": {
        "id": "yahr3B6VxhKe"
      },
      "id": "yahr3B6VxhKe"
    },
    {
      "cell_type": "markdown",
      "source": [
        "Get the index of the maximum value in each column (principal component)"
      ],
      "metadata": {
        "id": "1UVQiMx-FeXT"
      },
      "id": "1UVQiMx-FeXT"
    },
    {
      "cell_type": "code",
      "source": [],
      "metadata": {
        "id": "JpOth1PuFeXV"
      },
      "execution_count": null,
      "outputs": [],
      "id": "JpOth1PuFeXV"
    },
    {
      "cell_type": "markdown",
      "source": [
        "**k-Means Clustering**"
      ],
      "metadata": {
        "id": "6_535Ns0k-ta"
      },
      "id": "6_535Ns0k-ta"
    },
    {
      "cell_type": "code",
      "source": [],
      "metadata": {
        "id": "D2NRqJZYlAk6"
      },
      "id": "D2NRqJZYlAk6",
      "execution_count": null,
      "outputs": []
    },
    {
      "cell_type": "markdown",
      "source": [
        "What is the Silhouette Coefficient?"
      ],
      "metadata": {
        "id": "S-REjhZfMB_q"
      },
      "id": "S-REjhZfMB_q"
    },
    {
      "cell_type": "code",
      "source": [],
      "metadata": {
        "id": "GG1P7UqoMGND"
      },
      "id": "GG1P7UqoMGND",
      "execution_count": null,
      "outputs": []
    },
    {
      "cell_type": "markdown",
      "source": [
        "Before and after clustering"
      ],
      "metadata": {
        "id": "oJkIV0_sJ0IZ"
      },
      "id": "oJkIV0_sJ0IZ"
    },
    {
      "cell_type": "code",
      "source": [],
      "metadata": {
        "id": "gLLAefaWDCfA"
      },
      "execution_count": null,
      "outputs": [],
      "id": "gLLAefaWDCfA"
    }
  ],
  "metadata": {
    "kernelspec": {
      "display_name": "Python 3 (ipykernel)",
      "language": "python",
      "name": "python3"
    },
    "language_info": {
      "codemirror_mode": {
        "name": "ipython",
        "version": 3
      },
      "file_extension": ".py",
      "mimetype": "text/x-python",
      "name": "python",
      "nbconvert_exporter": "python",
      "pygments_lexer": "ipython3",
      "version": "3.9.13"
    },
    "colab": {
      "provenance": [],
      "include_colab_link": true
    }
  },
  "nbformat": 4,
  "nbformat_minor": 5
}